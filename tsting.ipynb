{
 "cells": [
  {
   "cell_type": "code",
   "execution_count": 1,
   "metadata": {},
   "outputs": [],
   "source": [
    "import firebase_admin\n",
    "from firebase_admin import credentials,storage\n",
    "cred = credentials.Certificate(\"key.json\")\n",
    "app=firebase_admin.initialize_app(cred,{'storageBucket': 'facial-reanimation.appspot.com'})\n",
    "bucket= storage.bucket(app=app)\n",
    "files = bucket.list_blobs() # fetch all the files in the bucket\n",
    "my_lit={}\n",
    "for i in files: \n",
    "    # print('The public url is ', i.public_url)\n",
    "    file_name=i.public_url.split('/')[-1]\n",
    "    file_pmid=file_name.split('_')[0]\n",
    "    # print(f'{file_pmid}: {i.public_url}')\n",
    "    my_lit[file_pmid]=i.public_url"
   ]
  },
  {
   "cell_type": "code",
   "execution_count": 10,
   "metadata": {},
   "outputs": [],
   "source": [
    "import pandas as pd"
   ]
  },
  {
   "cell_type": "code",
   "execution_count": 2,
   "metadata": {},
   "outputs": [],
   "source": []
  },
  {
   "cell_type": "code",
   "execution_count": 8,
   "metadata": {},
   "outputs": [],
   "source": [
    "\n"
   ]
  },
  {
   "cell_type": "code",
   "execution_count": 12,
   "metadata": {},
   "outputs": [],
   "source": [
    "files = bucket.list_blobs() # fetch all the files in the bucket\n",
    "my_lit={}\n",
    "for i in files: \n",
    "    # print('The public url is ', i.public_url)\n",
    "    file_name=i.public_url.split('/')[-1]\n",
    "    file_pmid=file_name.split('_')[0]\n",
    "    # print(f'{file_pmid}: {i.public_url}')\n",
    "    my_lit[file_pmid]=i.public_url\n",
    "pd.DataFrame(my_lit.items(),columns=['PMID','URL']).to_csv('my_lit.csv',index=False)   "
   ]
  }
 ],
 "metadata": {
  "kernelspec": {
   "display_name": "Python 3.9.7 ('base')",
   "language": "python",
   "name": "python3"
  },
  "language_info": {
   "codemirror_mode": {
    "name": "ipython",
    "version": 3
   },
   "file_extension": ".py",
   "mimetype": "text/x-python",
   "name": "python",
   "nbconvert_exporter": "python",
   "pygments_lexer": "ipython3",
   "version": "3.9.7"
  },
  "orig_nbformat": 4,
  "vscode": {
   "interpreter": {
    "hash": "ae3921d027b6d86ac5cdd494f71f3e94eda0143dea569d3d83847618f361e8e8"
   }
  }
 },
 "nbformat": 4,
 "nbformat_minor": 2
}
