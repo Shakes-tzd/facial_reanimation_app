{
 "cells": [
  {
   "cell_type": "code",
   "execution_count": 1,
   "metadata": {},
   "outputs": [],
   "source": [
    "import firebase_admin\n",
    "import pandas as pd\n",
    "from firebase_admin import credentials,storage\n",
    "cred = credentials.Certificate(\"key.json\")\n",
    "app=firebase_admin.initialize_app(cred,{'storageBucket': 'facial-reanimation.appspot.com'})\n",
    "bucket= storage.bucket(app=app)\n",
    "files = bucket.list_blobs() # fetch all the files in the bucket\n",
    "my_lit={}\n",
    "for i in files: \n",
    "    # print('The public url is ', i.public_url)\n",
    "    file_name=i.public_url.split('/')[-1]\n",
    "    file_pmid=file_name.split('_')[0]\n",
    "    # print(f'{file_pmid}: {i.public_url}')\n",
    "    my_lit[file_pmid]=i.public_url"
   ]
  },
  {
   "cell_type": "code",
   "execution_count": 2,
   "metadata": {},
   "outputs": [],
   "source": [
    "files = bucket.list_blobs() # fetch all the files in the bucket\n",
    "my_lit={}\n",
    "for i in files: \n",
    "    # print('The public url is ', i.public_url)\n",
    "    file_name=i.public_url.split('/')[-1]\n",
    "    file_pmid=file_name.split('_')[0]\n",
    "    # print(f'{file_pmid}: {i.public_url}')\n",
    "    my_lit[file_pmid]=i.public_url\n",
    " "
   ]
  },
  {
   "cell_type": "code",
   "execution_count": 9,
   "metadata": {},
   "outputs": [
    {
     "data": {
      "text/html": [
       "<div><div id=fd151ee5-5a88-49e9-80af-0e6d62dd78df style=\"display:none; background-color:#9D6CFF; color:white; width:200px; height:30px; padding-left:5px; border-radius:4px; flex-direction:row; justify-content:space-around; align-items:center;\" onmouseover=\"this.style.backgroundColor='#BA9BF8'\" onmouseout=\"this.style.backgroundColor='#9D6CFF'\" onclick=\"window.commands?.execute('create-mitosheet-from-dataframe-output');\">See Full Dataframe in Mito</div> <script> if (window.commands?.hasCommand('create-mitosheet-from-dataframe-output')) document.getElementById('fd151ee5-5a88-49e9-80af-0e6d62dd78df').style.display = 'flex' </script> <table border=\"1\" class=\"dataframe\">\n",
       "  <thead>\n",
       "    <tr style=\"text-align: right;\">\n",
       "      <th></th>\n",
       "      <th>PMID</th>\n",
       "      <th>URL</th>\n",
       "    </tr>\n",
       "  </thead>\n",
       "  <tbody>\n",
       "    <tr>\n",
       "      <th>1</th>\n",
       "      <td>10474465</td>\n",
       "      <td>https://storage.googleapis.com/facial-reanimation.appspot.com/downloaded_articles/10474465_sci_hub.pdf</td>\n",
       "    </tr>\n",
       "    <tr>\n",
       "      <th>2</th>\n",
       "      <td>10517460</td>\n",
       "      <td>https://storage.googleapis.com/facial-reanimation.appspot.com/downloaded_articles/10517460_sci_hub.pdf</td>\n",
       "    </tr>\n",
       "    <tr>\n",
       "      <th>3</th>\n",
       "      <td>10884169</td>\n",
       "      <td>https://storage.googleapis.com/facial-reanimation.appspot.com/downloaded_articles/10884169_sci_hub.pdf</td>\n",
       "    </tr>\n",
       "    <tr>\n",
       "      <th>4</th>\n",
       "      <td>10944053</td>\n",
       "      <td>https://storage.googleapis.com/facial-reanimation.appspot.com/downloaded_articles/10944053_sci_hub.pdf</td>\n",
       "    </tr>\n",
       "    <tr>\n",
       "      <th>5</th>\n",
       "      <td>10954315</td>\n",
       "      <td>https://storage.googleapis.com/facial-reanimation.appspot.com/downloaded_articles/10954315_sci_hub.pdf</td>\n",
       "    </tr>\n",
       "    <tr>\n",
       "      <th>...</th>\n",
       "      <td>...</td>\n",
       "      <td>...</td>\n",
       "    </tr>\n",
       "    <tr>\n",
       "      <th>252</th>\n",
       "      <td>9010420</td>\n",
       "      <td>https://storage.googleapis.com/facial-reanimation.appspot.com/downloaded_articles/9010420_sci_hub.pdf</td>\n",
       "    </tr>\n",
       "    <tr>\n",
       "      <th>253</th>\n",
       "      <td>9092841</td>\n",
       "      <td>https://storage.googleapis.com/facial-reanimation.appspot.com/downloaded_articles/9092841_sci_hub.pdf</td>\n",
       "    </tr>\n",
       "    <tr>\n",
       "      <th>254</th>\n",
       "      <td>9495461</td>\n",
       "      <td>https://storage.googleapis.com/facial-reanimation.appspot.com/downloaded_articles/9495461_sci_hub.pdf</td>\n",
       "    </tr>\n",
       "    <tr>\n",
       "      <th>255</th>\n",
       "      <td>9734407</td>\n",
       "      <td>https://storage.googleapis.com/facial-reanimation.appspot.com/downloaded_articles/9734407_sci_hub.pdf</td>\n",
       "    </tr>\n",
       "    <tr>\n",
       "      <th>256</th>\n",
       "      <td>9950533</td>\n",
       "      <td>https://storage.googleapis.com/facial-reanimation.appspot.com/downloaded_articles/9950533_sci_hub.pdf</td>\n",
       "    </tr>\n",
       "  </tbody>\n",
       "</table></div>"
      ],
      "text/plain": [
       "         PMID                                                URL\n",
       "1    10474465  https://storage.googleapis.com/facial-reanimat...\n",
       "2    10517460  https://storage.googleapis.com/facial-reanimat...\n",
       "3    10884169  https://storage.googleapis.com/facial-reanimat...\n",
       "4    10944053  https://storage.googleapis.com/facial-reanimat...\n",
       "5    10954315  https://storage.googleapis.com/facial-reanimat...\n",
       "..        ...                                                ...\n",
       "252   9010420  https://storage.googleapis.com/facial-reanimat...\n",
       "253   9092841  https://storage.googleapis.com/facial-reanimat...\n",
       "254   9495461  https://storage.googleapis.com/facial-reanimat...\n",
       "255   9734407  https://storage.googleapis.com/facial-reanimat...\n",
       "256   9950533  https://storage.googleapis.com/facial-reanimat...\n",
       "\n",
       "[256 rows x 2 columns]"
      ]
     },
     "execution_count": 9,
     "metadata": {},
     "output_type": "execute_result"
    }
   ],
   "source": [
    "my_urls=pd.DataFrame(my_lit.items(),columns=['PMID','URL']).loc[1:,['PMID','URL']]\n",
    "my_urls"
   ]
  },
  {
   "cell_type": "code",
   "execution_count": 10,
   "metadata": {},
   "outputs": [],
   "source": [
    "my_urls.to_csv('my_lit.csv',index=False)  # save the file to the bucket"
   ]
  },
  {
   "cell_type": "code",
   "execution_count": 3,
   "metadata": {},
   "outputs": [],
   "source": [
    "from google.cloud import firestore"
   ]
  },
  {
   "cell_type": "code",
   "execution_count": 4,
   "metadata": {},
   "outputs": [],
   "source": [
    "from google.cloud import storage\n",
    "\n",
    "\n",
    "def bucket_metadata(bucket_name,bucket):\n",
    "    \"\"\"Prints out a bucket's metadata.\"\"\"\n",
    "    # bucket_name = 'your-bucket-name'\n",
    "\n",
    "    # storage_client = storage.Client()\n",
    "    # bucket = storage.bucket(app=app)\n",
    "\n",
    "    print(f\"ID: {bucket.id}\")\n",
    "    print(f\"Name: {bucket.name}\")\n",
    "    print(f\"Storage Class: {bucket.storage_class}\")\n",
    "    print(f\"Location: {bucket.location}\")\n",
    "    print(f\"Location Type: {bucket.location_type}\")\n",
    "    print(f\"Cors: {bucket.cors}\")\n",
    "    print(f\"Default Event Based Hold: {bucket.default_event_based_hold}\")\n",
    "    print(f\"Default KMS Key Name: {bucket.default_kms_key_name}\")\n",
    "    print(f\"Metageneration: {bucket.metageneration}\")\n",
    "    print(\n",
    "        f\"Public Access Prevention: {bucket.iam_configuration.public_access_prevention}\"\n",
    "    )\n",
    "    print(f\"Retention Effective Time: {bucket.retention_policy_effective_time}\")\n",
    "    print(f\"Retention Period: {bucket.retention_period}\")\n",
    "    print(f\"Retention Policy Locked: {bucket.retention_policy_locked}\")\n",
    "    print(f\"Requester Pays: {bucket.requester_pays}\")\n",
    "    print(f\"Self Link: {bucket.self_link}\")\n",
    "    print(f\"Time Created: {bucket.time_created}\")\n",
    "    print(f\"Versioning Enabled: {bucket.versioning_enabled}\")\n",
    "    print(f\"Labels: {bucket.labels}\")"
   ]
  },
  {
   "cell_type": "code",
   "execution_count": 14,
   "metadata": {},
   "outputs": [
    {
     "name": "stdout",
     "output_type": "stream",
     "text": [
      "ID: facial-reanimation.appspot.com\n",
      "Name: facial-reanimation.appspot.com\n",
      "Storage Class: STANDARD\n",
      "Location: US-EAST1\n",
      "Location Type: region\n",
      "Cors: []\n",
      "Default Event Based Hold: None\n",
      "Default KMS Key Name: None\n",
      "Metageneration: 5\n",
      "Public Access Prevention: inherited\n",
      "Retention Effective Time: None\n",
      "Retention Period: None\n",
      "Retention Policy Locked: None\n",
      "Requester Pays: False\n",
      "Self Link: https://www.googleapis.com/storage/v1/b/facial-reanimation.appspot.com\n",
      "Time Created: 2022-10-03 19:57:10.084000+00:00\n",
      "Versioning Enabled: False\n",
      "Labels: {}\n"
     ]
    }
   ],
   "source": [
    "bucket_metadata('facial-reanimation.appspot.com',bucket)"
   ]
  },
  {
   "cell_type": "code",
   "execution_count": 15,
   "metadata": {},
   "outputs": [],
   "source": [
    "def cors_configuration(bucket_name,bucket):\n",
    "    \"\"\"Set a bucket's CORS policies configuration.\"\"\"\n",
    "    # bucket_name = \"your-bucket-name\"\n",
    "\n",
    "    # storage_client = storage.Client()\n",
    "    # bucket = storage_client.get_bucket(bucket_name)\n",
    "    bucket.cors = [\n",
    "        {\n",
    "      \"origin\": [\"https://dc-api.adobe.io\"],\n",
    "      \"method\": [\"GET\",\"POST\"],\n",
    "      \"responseHeader\": [\"Content-Type\"],\n",
    "      \"maxAgeSeconds\": 3600\n",
    "    }\n",
    "    ]\n",
    "    bucket.patch()\n",
    "\n",
    "    print(f\"Set CORS policies for bucket {bucket.name} is {bucket.cors}\")\n",
    "    return bucket\n"
   ]
  },
  {
   "cell_type": "code",
   "execution_count": 16,
   "metadata": {},
   "outputs": [
    {
     "name": "stdout",
     "output_type": "stream",
     "text": [
      "Set CORS policies for bucket facial-reanimation.appspot.com is [{'origin': ['https://dc-api.adobe.io'], 'method': ['GET', 'POST'], 'responseHeader': ['Content-Type'], 'maxAgeSeconds': 3600}]\n"
     ]
    },
    {
     "data": {
      "text/plain": [
       "<Bucket: facial-reanimation.appspot.com>"
      ]
     },
     "execution_count": 16,
     "metadata": {},
     "output_type": "execute_result"
    }
   ],
   "source": [
    "cors_configuration('facial-reanimation.appspot.com',bucket)"
   ]
  },
  {
   "cell_type": "code",
   "execution_count": 12,
   "metadata": {},
   "outputs": [],
   "source": [
    "def remove_cors_configuration(bucket_name,bucket):\n",
    "    \"\"\"Remove a bucket's CORS policies configuration.\"\"\"\n",
    "    # bucket_name = \"your-bucket-name\"\n",
    "\n",
    "    # storage_client = storage.Client()\n",
    "    # bucket = storage_client.get_bucket(bucket_name)\n",
    "    bucket.cors = []\n",
    "    bucket.patch()\n",
    "\n",
    "    print(f\"Remove CORS policies for bucket {bucket.name}.\")\n",
    "    return bucket"
   ]
  },
  {
   "cell_type": "code",
   "execution_count": 13,
   "metadata": {},
   "outputs": [
    {
     "name": "stdout",
     "output_type": "stream",
     "text": [
      "Remove CORS policies for bucket facial-reanimation.appspot.com.\n"
     ]
    },
    {
     "data": {
      "text/plain": [
       "<Bucket: facial-reanimation.appspot.com>"
      ]
     },
     "execution_count": 13,
     "metadata": {},
     "output_type": "execute_result"
    }
   ],
   "source": [
    "remove_cors_configuration('facial-reanimation.appspot.com',bucket)"
   ]
  },
  {
   "cell_type": "code",
   "execution_count": 17,
   "metadata": {},
   "outputs": [],
   "source": [
    "df_links = pd.read_csv('pdf_file_links_2.csv')"
   ]
  },
  {
   "cell_type": "code",
   "execution_count": 25,
   "metadata": {},
   "outputs": [
    {
     "data": {
      "text/plain": [
       "'https://drive.google.com/file/d/1xdBUh30ywpfWsTs0TULlIc50f_-Tp5-P/preview'"
      ]
     },
     "execution_count": 25,
     "metadata": {},
     "output_type": "execute_result"
    }
   ],
   "source": [
    "file_link=df_links['link'][df_links['pmid']== 32542367][0]\n",
    "file_.replace('view?usp=drivesdk','preview')"
   ]
  },
  {
   "cell_type": "code",
   "execution_count": null,
   "metadata": {},
   "outputs": [],
   "source": []
  }
 ],
 "metadata": {
  "kernelspec": {
   "display_name": "Python 3.9.7 ('base')",
   "language": "python",
   "name": "python3"
  },
  "language_info": {
   "codemirror_mode": {
    "name": "ipython",
    "version": 3
   },
   "file_extension": ".py",
   "mimetype": "text/x-python",
   "name": "python",
   "nbconvert_exporter": "python",
   "pygments_lexer": "ipython3",
   "version": "3.9.7"
  },
  "orig_nbformat": 4,
  "vscode": {
   "interpreter": {
    "hash": "ae3921d027b6d86ac5cdd494f71f3e94eda0143dea569d3d83847618f361e8e8"
   }
  }
 },
 "nbformat": 4,
 "nbformat_minor": 2
}
