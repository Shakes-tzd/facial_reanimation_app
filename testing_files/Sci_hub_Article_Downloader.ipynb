{
  "nbformat": 4,
  "nbformat_minor": 0,
  "metadata": {
    "colab": {
      "provenance": []
    },
    "kernelspec": {
      "name": "python3",
      "display_name": "Python 3"
    },
    "language_info": {
      "name": "python"
    }
  },
  "cells": [
    {
      "cell_type": "code",
      "execution_count": null,
      "metadata": {
        "colab": {
          "base_uri": "https://localhost:8080/"
        },
        "id": "-fPtFPwt8AEa",
        "outputId": "80acb8c3-4501-4c59-ac2b-7830ede1bcc0"
      },
      "outputs": [
        {
          "output_type": "stream",
          "name": "stdout",
          "text": [
            "Looking in indexes: https://pypi.org/simple, https://us-python.pkg.dev/colab-wheels/public/simple/\n",
            "Requirement already satisfied: aspose-words in /usr/local/lib/python3.7/dist-packages (22.9.0)\n"
          ]
        }
      ],
      "source": [
        "!pip install aspose-words"
      ]
    },
    {
      "cell_type": "code",
      "source": [
        "%cd /content/drive/MyDrive/Moreen/article_downloads"
      ],
      "metadata": {
        "colab": {
          "base_uri": "https://localhost:8080/"
        },
        "id": "FDiPwBxy8BXt",
        "outputId": "dc31dce7-9822-4ac0-c937-6c704746561b"
      },
      "execution_count": null,
      "outputs": [
        {
          "output_type": "stream",
          "name": "stdout",
          "text": [
            "/content/drive/MyDrive/Moreen/article_downloads\n"
          ]
        }
      ]
    },
    {
      "cell_type": "code",
      "source": [
        "import os\n",
        "import pandas as pd\n",
        "import aspose.words as aw"
      ],
      "metadata": {
        "id": "HYsF3nswg12c"
      },
      "execution_count": null,
      "outputs": []
    },
    {
      "cell_type": "code",
      "source": [
        "df_pmid=pd.read_excel('/content/drive/MyDrive/Moreen/article_downloads/Data Extraction PMIDs.xlsx')\n",
        "df_pmid.head()"
      ],
      "metadata": {
        "colab": {
          "base_uri": "https://localhost:8080/",
          "height": 204
        },
        "id": "rZYc84Xyg8C_",
        "outputId": "1c2e5ac1-d74e-4db9-ff51-e87368242bdf"
      },
      "execution_count": null,
      "outputs": [
        {
          "output_type": "execute_result",
          "data": {
            "text/plain": [
              "      PMID\n",
              "0  1908974\n",
              "1  2025755\n",
              "2  2248739\n",
              "3  2359779\n",
              "4  2710828"
            ],
            "text/html": [
              "\n",
              "  <div id=\"df-cadb5479-ffba-45fa-a6c3-37b3c202d21d\">\n",
              "    <div class=\"colab-df-container\">\n",
              "      <div>\n",
              "<style scoped>\n",
              "    .dataframe tbody tr th:only-of-type {\n",
              "        vertical-align: middle;\n",
              "    }\n",
              "\n",
              "    .dataframe tbody tr th {\n",
              "        vertical-align: top;\n",
              "    }\n",
              "\n",
              "    .dataframe thead th {\n",
              "        text-align: right;\n",
              "    }\n",
              "</style>\n",
              "<table border=\"1\" class=\"dataframe\">\n",
              "  <thead>\n",
              "    <tr style=\"text-align: right;\">\n",
              "      <th></th>\n",
              "      <th>PMID</th>\n",
              "    </tr>\n",
              "  </thead>\n",
              "  <tbody>\n",
              "    <tr>\n",
              "      <th>0</th>\n",
              "      <td>1908974</td>\n",
              "    </tr>\n",
              "    <tr>\n",
              "      <th>1</th>\n",
              "      <td>2025755</td>\n",
              "    </tr>\n",
              "    <tr>\n",
              "      <th>2</th>\n",
              "      <td>2248739</td>\n",
              "    </tr>\n",
              "    <tr>\n",
              "      <th>3</th>\n",
              "      <td>2359779</td>\n",
              "    </tr>\n",
              "    <tr>\n",
              "      <th>4</th>\n",
              "      <td>2710828</td>\n",
              "    </tr>\n",
              "  </tbody>\n",
              "</table>\n",
              "</div>\n",
              "      <button class=\"colab-df-convert\" onclick=\"convertToInteractive('df-cadb5479-ffba-45fa-a6c3-37b3c202d21d')\"\n",
              "              title=\"Convert this dataframe to an interactive table.\"\n",
              "              style=\"display:none;\">\n",
              "        \n",
              "  <svg xmlns=\"http://www.w3.org/2000/svg\" height=\"24px\"viewBox=\"0 0 24 24\"\n",
              "       width=\"24px\">\n",
              "    <path d=\"M0 0h24v24H0V0z\" fill=\"none\"/>\n",
              "    <path d=\"M18.56 5.44l.94 2.06.94-2.06 2.06-.94-2.06-.94-.94-2.06-.94 2.06-2.06.94zm-11 1L8.5 8.5l.94-2.06 2.06-.94-2.06-.94L8.5 2.5l-.94 2.06-2.06.94zm10 10l.94 2.06.94-2.06 2.06-.94-2.06-.94-.94-2.06-.94 2.06-2.06.94z\"/><path d=\"M17.41 7.96l-1.37-1.37c-.4-.4-.92-.59-1.43-.59-.52 0-1.04.2-1.43.59L10.3 9.45l-7.72 7.72c-.78.78-.78 2.05 0 2.83L4 21.41c.39.39.9.59 1.41.59.51 0 1.02-.2 1.41-.59l7.78-7.78 2.81-2.81c.8-.78.8-2.07 0-2.86zM5.41 20L4 18.59l7.72-7.72 1.47 1.35L5.41 20z\"/>\n",
              "  </svg>\n",
              "      </button>\n",
              "      \n",
              "  <style>\n",
              "    .colab-df-container {\n",
              "      display:flex;\n",
              "      flex-wrap:wrap;\n",
              "      gap: 12px;\n",
              "    }\n",
              "\n",
              "    .colab-df-convert {\n",
              "      background-color: #E8F0FE;\n",
              "      border: none;\n",
              "      border-radius: 50%;\n",
              "      cursor: pointer;\n",
              "      display: none;\n",
              "      fill: #1967D2;\n",
              "      height: 32px;\n",
              "      padding: 0 0 0 0;\n",
              "      width: 32px;\n",
              "    }\n",
              "\n",
              "    .colab-df-convert:hover {\n",
              "      background-color: #E2EBFA;\n",
              "      box-shadow: 0px 1px 2px rgba(60, 64, 67, 0.3), 0px 1px 3px 1px rgba(60, 64, 67, 0.15);\n",
              "      fill: #174EA6;\n",
              "    }\n",
              "\n",
              "    [theme=dark] .colab-df-convert {\n",
              "      background-color: #3B4455;\n",
              "      fill: #D2E3FC;\n",
              "    }\n",
              "\n",
              "    [theme=dark] .colab-df-convert:hover {\n",
              "      background-color: #434B5C;\n",
              "      box-shadow: 0px 1px 3px 1px rgba(0, 0, 0, 0.15);\n",
              "      filter: drop-shadow(0px 1px 2px rgba(0, 0, 0, 0.3));\n",
              "      fill: #FFFFFF;\n",
              "    }\n",
              "  </style>\n",
              "\n",
              "      <script>\n",
              "        const buttonEl =\n",
              "          document.querySelector('#df-cadb5479-ffba-45fa-a6c3-37b3c202d21d button.colab-df-convert');\n",
              "        buttonEl.style.display =\n",
              "          google.colab.kernel.accessAllowed ? 'block' : 'none';\n",
              "\n",
              "        async function convertToInteractive(key) {\n",
              "          const element = document.querySelector('#df-cadb5479-ffba-45fa-a6c3-37b3c202d21d');\n",
              "          const dataTable =\n",
              "            await google.colab.kernel.invokeFunction('convertToInteractive',\n",
              "                                                     [key], {});\n",
              "          if (!dataTable) return;\n",
              "\n",
              "          const docLinkHtml = 'Like what you see? Visit the ' +\n",
              "            '<a target=\"_blank\" href=https://colab.research.google.com/notebooks/data_table.ipynb>data table notebook</a>'\n",
              "            + ' to learn more about interactive tables.';\n",
              "          element.innerHTML = '';\n",
              "          dataTable['output_type'] = 'display_data';\n",
              "          await google.colab.output.renderOutput(dataTable, element);\n",
              "          const docLink = document.createElement('div');\n",
              "          docLink.innerHTML = docLinkHtml;\n",
              "          element.appendChild(docLink);\n",
              "        }\n",
              "      </script>\n",
              "    </div>\n",
              "  </div>\n",
              "  "
            ]
          },
          "metadata": {},
          "execution_count": 5
        }
      ]
    },
    {
      "cell_type": "code",
      "source": [
        "for pmid in list(df_pmid['PMID']):\n",
        "  name=str(pmid)+'_sci_hub.pdf'\n",
        "  try:\n",
        "    doc = aw.Document(name)\n",
        "    text_name=str(pmid)+'_text.txt'\n",
        "    path='article_text_files/'+text_name\n",
        "    doc.save(path)\n",
        "  except:\n",
        "    print(f\"{name} not in folder\")"
      ],
      "metadata": {
        "colab": {
          "base_uri": "https://localhost:8080/"
        },
        "id": "44qLe6wEwxTE",
        "outputId": "7bb9cff8-7012-4cee-b88e-0b3f0a0636c3"
      },
      "execution_count": null,
      "outputs": [
        {
          "output_type": "stream",
          "name": "stdout",
          "text": [
            "2359779_sci_hub.pdf not in folder\n",
            "2710828_sci_hub.pdf not in folder\n",
            "6494818_sci_hub.pdf not in folder\n",
            "7725935_sci_hub.pdf not in folder\n",
            "10089800_sci_hub.pdf not in folder\n",
            "11030393_sci_hub.pdf not in folder\n",
            "11379399_sci_hub.pdf not in folder\n",
            "11826653_sci_hub.pdf not in folder\n",
            "16794958_sci_hub.pdf not in folder\n",
            "22127940_sci_hub.pdf not in folder\n",
            "22336011_sci_hub.pdf not in folder\n",
            "23670583_sci_hub.pdf not in folder\n",
            "27035172_sci_hub.pdf not in folder\n",
            "28299269_sci_hub.pdf not in folder\n",
            "28391532_sci_hub.pdf not in folder\n",
            "29125661_sci_hub.pdf not in folder\n",
            "29155463_sci_hub.pdf not in folder\n",
            "29851720_sci_hub.pdf not in folder\n",
            "30325893_sci_hub.pdf not in folder\n",
            "30534494_sci_hub.pdf not in folder\n",
            "30934175_sci_hub.pdf not in folder\n",
            "30949826_sci_hub.pdf not in folder\n",
            "31535502_sci_hub.pdf not in folder\n",
            "32364354_sci_hub.pdf not in folder\n",
            "32486859_sci_hub.pdf not in folder\n",
            "33086295_sci_hub.pdf not in folder\n",
            "33325774_sci_hub.pdf not in folder\n",
            "33747692_sci_hub.pdf not in folder\n",
            "33976066_sci_hub.pdf not in folder\n",
            "34011000_sci_hub.pdf not in folder\n",
            "34024072_sci_hub.pdf not in folder\n",
            "34166082_sci_hub.pdf not in folder\n",
            "34287016_sci_hub.pdf not in folder\n",
            "34558541_sci_hub.pdf not in folder\n",
            "34727487_sci_hub.pdf not in folder\n",
            "34760845_sci_hub.pdf not in folder\n",
            "34974685_sci_hub.pdf not in folder\n",
            "35198351_sci_hub.pdf not in folder\n",
            "35339422_sci_hub.pdf not in folder\n",
            "35396191_sci_hub.pdf not in folder\n"
          ]
        }
      ]
    },
    {
      "cell_type": "code",
      "source": [
        "no_txt_file=\"\"\"2359779_sci_hub.pdf\n",
        "2710828_sci_hub.pdf\n",
        "6494818_sci_hub.pdf\n",
        "7725935_sci_hub.pdf\n",
        "10089800_sci_hub.pdf\n",
        "11030393_sci_hub.pdf\n",
        "11379399_sci_hub.pdf\n",
        "11826653_sci_hub.pdf\n",
        "16794958_sci_hub.pdf\n",
        "22127940_sci_hub.pdf\n",
        "22336011_sci_hub.pdf\n",
        "23670583_sci_hub.pdf\n",
        "27035172_sci_hub.pdf\n",
        "28299269_sci_hub.pdf\n",
        "28391532_sci_hub.pdf\n",
        "29125661_sci_hub.pdf\n",
        "29155463_sci_hub.pdf\n",
        "29851720_sci_hub.pdf\n",
        "30325893_sci_hub.pdf\n",
        "30534494_sci_hub.pdf\n",
        "30934175_sci_hub.pdf\n",
        "30949826_sci_hub.pdf\n",
        "31535502_sci_hub.pdf\n",
        "32364354_sci_hub.pdf\n",
        "32486859_sci_hub.pdf\n",
        "33086295_sci_hub.pdf\n",
        "33325774_sci_hub.pdf\n",
        "33747692_sci_hub.pdf\n",
        "33976066_sci_hub.pdf\n",
        "34011000_sci_hub.pdf\n",
        "34024072_sci_hub.pdf\n",
        "34166082_sci_hub.pdf\n",
        "34287016_sci_hub.pdf\n",
        "34558541_sci_hub.pdf\n",
        "34727487_sci_hub.pdf\n",
        "34760845_sci_hub.pdf\n",
        "34974685_sci_hub.pdf\n",
        "35198351_sci_hub.pdf\n",
        "35339422_sci_hub.pdf\n",
        "35396191_sci_hub.pdf\"\"\""
      ],
      "metadata": {
        "id": "v0CxHbQBymTS"
      },
      "execution_count": null,
      "outputs": []
    }
  ]
}